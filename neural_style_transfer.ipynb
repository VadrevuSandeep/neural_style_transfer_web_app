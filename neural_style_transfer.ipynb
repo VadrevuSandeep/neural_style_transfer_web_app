{
  "cells": [
    {
      "cell_type": "code",
      "execution_count": null,
      "metadata": {
        "id": "MHix5pV0NWUU"
      },
      "outputs": [],
      "source": [
        "import tensorflow as tf\n",
        "import tensorflow_hub as hub\n",
        "import numpy as np\n",
        "from PIL import Image\n",
        "import matplotlib.pyplot as plt\n",
        "import io\n",
        "\n",
        "# Load model\n",
        "model = hub.load('https://tfhub.dev/google/magenta/arbitrary-image-stylization-v1-256/2')\n",
        "\n",
        "def load_image(uploaded_file):\n",
        "    img = Image.open(uploaded_file).convert('RGB')\n",
        "    img = img.resize((512, 512))\n",
        "    return tf.image.convert_image_dtype(np.array(img), tf.float32)[tf.newaxis, ...]\n",
        "\n",
        "from google.colab import files\n",
        "\n",
        "# Upload content and style images\n",
        "print(\"Upload your content image (e.g., a photo):\")\n",
        "content_file = files.upload()\n",
        "content_key = list(content_file.keys())[0]\n",
        "content_img = load_image(io.BytesIO(content_file[content_key]))\n",
        "\n",
        "print(\"\\nUpload your style image (e.g., a painting):\")\n",
        "style_file = files.upload()\n",
        "style_key = list(style_file.keys())[0]\n",
        "style_img = load_image(io.BytesIO(style_file[style_key]))\n",
        "\n",
        "# Style transfer\n",
        "stylized_img = model(tf.constant(content_img), tf.constant(style_img))[0]\n",
        "stylized_img = tf.squeeze(stylized_img)\n",
        "\n",
        "# Display result\n",
        "plt.figure(figsize=(12, 6))\n",
        "plt.subplot(1, 2, 1)\n",
        "plt.imshow(content_img[0])\n",
        "plt.title('Content Image')\n",
        "plt.axis('off')\n",
        "plt.subplot(1, 2, 2)\n",
        "plt.imshow(stylized_img)\n",
        "plt.title('Stylized Image')\n",
        "plt.axis('off')\n",
        "plt.show()\n"
      ]
    },
    {
      "cell_type": "code",
      "execution_count": null,
      "metadata": {
        "id": "0f50Z1nWN_9_"
      },
      "outputs": [],
      "source": [
        "!pip install streamlit tensorflow tensorflow_hub pillow pyngrok\n",
        "\n"
      ]
    },
    {
      "cell_type": "code",
      "execution_count": 8,
      "metadata": {
        "colab": {
          "base_uri": "https://localhost:8080/"
        },
        "id": "vi3gz4uIORBy",
        "outputId": "c252cca3-ab47-4562-a834-75bed622086d"
      },
      "outputs": [
        {
          "output_type": "stream",
          "name": "stdout",
          "text": [
            "Overwriting app.py\n"
          ]
        }
      ],
      "source": [
        "%%writefile app.py\n",
        "import streamlit as st\n",
        "import tensorflow as tf\n",
        "import tensorflow_hub as hub\n",
        "from PIL import Image\n",
        "import numpy as np\n",
        "\n",
        "model = hub.load('https://tfhub.dev/google/magenta/arbitrary-image-stylization-v1-256/2')\n",
        "\n",
        "def load_image(uploaded_file):\n",
        "    img = Image.open(uploaded_file).convert('RGB')\n",
        "    img = img.resize((512, 512))\n",
        "    return tf.image.convert_image_dtype(np.array(img), tf.float32)[tf.newaxis, ...]\n",
        "\n",
        "st.title(\"Neural Style Transfer Web App\")\n",
        "\n",
        "content_file = st.file_uploader(\"Upload your content image\", type=[\"jpg\", \"png\", \"jpeg\"])\n",
        "style_file = st.file_uploader(\"Upload your style image\", type=[\"jpg\", \"png\", \"jpeg\"])\n",
        "\n",
        "if content_file and style_file:\n",
        "    content_img = load_image(content_file)\n",
        "    style_img = load_image(style_file)\n",
        "    stylized_img = model(tf.constant(content_img), tf.constant(style_img))[0]\n",
        "    stylized_img = tf.squeeze(stylized_img)\n",
        "    st.image([content_img[0].numpy(), stylized_img.numpy()], caption=['Content Image', 'Stylized Image'], width=300)\n"
      ]
    },
    {
      "cell_type": "code",
      "execution_count": 9,
      "metadata": {
        "id": "WaIIyYGnOYIv"
      },
      "outputs": [],
      "source": [
        "!streamlit run app.py --server.port 8501 &>/dev/null &\n",
        "\n"
      ]
    },
    {
      "cell_type": "code",
      "execution_count": 10,
      "metadata": {
        "colab": {
          "base_uri": "https://localhost:8080/"
        },
        "id": "X2lngoygQEo8",
        "outputId": "c2c90463-750e-4315-b411-a640b793fbcf"
      },
      "outputs": [
        {
          "output_type": "stream",
          "name": "stdout",
          "text": [
            "Your public URL is: https://6907-34-74-230-209.ngrok-free.app\n"
          ]
        }
      ],
      "source": [
        "from pyngrok import ngrok\n",
        "\n",
        "# Set your ngrok authtoken (use your actual token)\n",
        "ngrok.set_auth_token(\"2zEi1fOnKLD7QAkapKybJFnJKBD_5Ks4P5GiZ8Q9KGsg214c7\")\n",
        "\n",
        "# Start ngrok tunnel to port 8501 (Streamlit default is 8501)\n",
        "public_url = ngrok.connect(addr=8501, proto=\"http\")  # <-- Use addr and proto as keyword arguments\n",
        "print(\"Your public URL is:\", public_url.public_url)\n"
      ]
    }
  ],
  "metadata": {
    "colab": {
      "provenance": []
    },
    "kernelspec": {
      "display_name": "Python 3",
      "name": "python3"
    },
    "language_info": {
      "name": "python"
    }
  },
  "nbformat": 4,
  "nbformat_minor": 0
}